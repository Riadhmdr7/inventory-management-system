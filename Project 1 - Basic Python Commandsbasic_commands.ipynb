{
  "nbformat": 4,
  "nbformat_minor": 0,
  "metadata": {
    "colab": {
      "provenance": []
    },
    "kernelspec": {
      "name": "python3",
      "display_name": "Python 3"
    },
    "language_info": {
      "name": "python"
    }
  },
  "cells": [
    {
      "cell_type": "code",
      "execution_count": 1,
      "metadata": {
        "colab": {
          "base_uri": "https://localhost:8080/"
        },
        "id": "NH1VnJliywbK",
        "outputId": "c3028228-b9ea-4b61-896b-c765d750b0c8"
      },
      "outputs": [
        {
          "output_type": "stream",
          "name": "stdout",
          "text": [
            "My name is: Riadh\n",
            "I am 18 years old.\n",
            "I live in Algeria\n",
            "x + y = 15\n",
            "x - y = 5\n",
            "x * y = 50\n",
            "x / y = 2.0\n",
            "Enter your name: riadh\n",
            "Hello riadh! Nice to meet you.\n",
            "Enter a number: 3\n",
            "3 is odd.\n",
            "Enter first number: 34\n",
            "Enter second number: 25\n",
            "The sum of 34 and 25 is 59\n"
          ]
        }
      ],
      "source": [
        "# Project 1: Introduction to Python – Basic Commands\n",
        "# Author: Riadh Moudir\n",
        "# Date: 06-05-2024\n",
        "# Description: This project demonstrates basic Python commands, variables, arithmetic, and printing.\n",
        "\n",
        "# This is a comment — it explains what the next line does\n",
        "\n",
        "# 1. Creating variables\n",
        "name = \"Riadh\"  # Storing your name in a variable\n",
        "age = 18        # Storing your age in a variable\n",
        "country = \"Algeria\"\n",
        "\n",
        "# 2. Printing variables\n",
        "print(\"My name is:\", name)\n",
        "print(\"I am\", age, \"years old.\")\n",
        "print(\"I live in\", country)\n",
        "\n",
        "# 3. Doing some math with variables\n",
        "x = 10\n",
        "y = 5\n",
        "\n",
        "# Add, subtract, multiply, divide\n",
        "print(\"x + y =\", x + y)       # Output: 15\n",
        "print(\"x - y =\", x - y)       # Output: 5\n",
        "print(\"x * y =\", x * y)       # Output: 50\n",
        "print(\"x / y =\", x / y)       # Output: 2.0\n",
        "\n",
        "# 4. Using input to get data from the user\n",
        "user_name = input(\"Enter your name: \")\n",
        "print(\"Hello\", user_name + \"! Nice to meet you.\")\n",
        "\n",
        "# 5. Using simple if condition\n",
        "number = int(input(\"Enter a number: \"))\n",
        "if number % 2 == 0:\n",
        "    print(number, \"is even.\")\n",
        "else:\n",
        "    print(number, \"is odd.\")\n",
        "\n",
        "# 6. Combining everything\n",
        "a = int(input(\"Enter first number: \"))\n",
        "b = int(input(\"Enter second number: \"))\n",
        "sum_result = a + b\n",
        "print(\"The sum of\", a, \"and\", b, \"is\", sum_result)\n"
      ]
    }
  ]
}