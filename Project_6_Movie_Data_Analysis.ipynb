{
 "cells": [
  {
   "cell_type": "markdown",
   "id": "c5515042",
   "metadata": {},
   "source": [
    "# Project 6: Exploring Movie Data with Pandas"
   ]
  },
  {
   "cell_type": "markdown",
   "id": "08a970b4",
   "metadata": {},
   "source": [
    "This project analyzes a fictional movie dataset using pandas."
   ]
  },
  {
   "cell_type": "code",
   "execution_count": null,
   "id": "3caa029a",
   "metadata": {},
   "outputs": [],
   "source": [
    "\n",
    "import pandas as pd\n",
    "\n",
    "# Load the dataset\n",
    "df = pd.read_csv(\"movie_dataset.csv\")\n",
    "\n",
    "# Add Profit column\n",
    "df[\"Profit (Millions)\"] = df[\"Box Office (Millions)\"] - df[\"Budget (Millions)\"]\n",
    "df.head()\n"
   ]
  },
  {
   "cell_type": "markdown",
   "id": "723e2ae4",
   "metadata": {},
   "source": [
    "## 1. Basic Exploration"
   ]
  },
  {
   "cell_type": "code",
   "execution_count": null,
   "id": "a19f4ebd",
   "metadata": {},
   "outputs": [],
   "source": [
    "\n",
    "df.info()\n"
   ]
  },
  {
   "cell_type": "code",
   "execution_count": null,
   "id": "85b8171a",
   "metadata": {},
   "outputs": [],
   "source": [
    "\n",
    "df.describe()\n"
   ]
  },
  {
   "cell_type": "markdown",
   "id": "00a6c379",
   "metadata": {},
   "source": [
    "## 2. Filtering"
   ]
  },
  {
   "cell_type": "code",
   "execution_count": null,
   "id": "c0da4f29",
   "metadata": {},
   "outputs": [],
   "source": [
    "\n",
    "df[df[\"Rating\"] > 8.0]\n"
   ]
  },
  {
   "cell_type": "code",
   "execution_count": null,
   "id": "972ff0fe",
   "metadata": {},
   "outputs": [],
   "source": [
    "\n",
    "df[df[\"Box Office (Millions)\"] > 500]\n"
   ]
  },
  {
   "cell_type": "markdown",
   "id": "76b10e7f",
   "metadata": {},
   "source": [
    "## 3. Sorting"
   ]
  },
  {
   "cell_type": "code",
   "execution_count": null,
   "id": "61d8c22c",
   "metadata": {},
   "outputs": [],
   "source": [
    "\n",
    "df.sort_values(by=\"Release Year\", ascending=False)\n"
   ]
  },
  {
   "cell_type": "code",
   "execution_count": null,
   "id": "8a6f1cf9",
   "metadata": {},
   "outputs": [],
   "source": [
    "\n",
    "df.sort_values(by=\"Box Office (Millions)\", ascending=False)\n"
   ]
  },
  {
   "cell_type": "markdown",
   "id": "73e188bf",
   "metadata": {},
   "source": [
    "## 4. Aggregation"
   ]
  },
  {
   "cell_type": "code",
   "execution_count": null,
   "id": "2eae1f11",
   "metadata": {},
   "outputs": [],
   "source": [
    "\n",
    "df[\"Rating\"].mean()\n"
   ]
  },
  {
   "cell_type": "code",
   "execution_count": null,
   "id": "ae75756c",
   "metadata": {},
   "outputs": [],
   "source": [
    "\n",
    "df[\"Budget (Millions)\"].sum()\n"
   ]
  },
  {
   "cell_type": "code",
   "execution_count": null,
   "id": "ff94b19a",
   "metadata": {},
   "outputs": [],
   "source": [
    "\n",
    "df.loc[df[\"Box Office (Millions)\"].idxmax()]\n"
   ]
  },
  {
   "cell_type": "markdown",
   "id": "02d00557",
   "metadata": {},
   "source": [
    "## 5. Grouping"
   ]
  },
  {
   "cell_type": "code",
   "execution_count": null,
   "id": "537c127b",
   "metadata": {},
   "outputs": [],
   "source": [
    "\n",
    "df.groupby(\"Genre\")[\"Rating\"].mean().reset_index()\n"
   ]
  },
  {
   "cell_type": "code",
   "execution_count": null,
   "id": "86b5cee1",
   "metadata": {},
   "outputs": [],
   "source": [
    "\n",
    "df.groupby(\"Director\")[\"Box Office (Millions)\"].sum().reset_index()\n"
   ]
  },
  {
   "cell_type": "markdown",
   "id": "38319643",
   "metadata": {},
   "source": [
    "## 6. Extra Challenge"
   ]
  },
  {
   "cell_type": "code",
   "execution_count": null,
   "id": "79b191e2",
   "metadata": {},
   "outputs": [],
   "source": [
    "\n",
    "df.loc[df[\"Profit (Millions)\"].idxmax()]\n"
   ]
  }
 ],
 "metadata": {},
 "nbformat": 4,
 "nbformat_minor": 5
}
